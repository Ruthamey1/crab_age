{
 "cells": [
  {
   "cell_type": "code",
   "execution_count": 1,
   "id": "2ef04a14",
   "metadata": {
    "_cell_guid": "b1076dfc-b9ad-4769-8c92-a6c4dae69d19",
    "_uuid": "8f2839f25d086af736a60e9eeb907d3b93b6e0e5",
    "execution": {
     "iopub.execute_input": "2023-06-12T12:37:42.019011Z",
     "iopub.status.busy": "2023-06-12T12:37:42.018637Z",
     "iopub.status.idle": "2023-06-12T12:37:42.033606Z",
     "shell.execute_reply": "2023-06-12T12:37:42.032556Z"
    },
    "papermill": {
     "duration": 0.026478,
     "end_time": "2023-06-12T12:37:42.036732",
     "exception": false,
     "start_time": "2023-06-12T12:37:42.010254",
     "status": "completed"
    },
    "tags": []
   },
   "outputs": [
    {
     "name": "stdout",
     "output_type": "stream",
     "text": [
      "/kaggle/input/playground-series-s3e16/sample_submission.csv\n",
      "/kaggle/input/playground-series-s3e16/train.csv\n",
      "/kaggle/input/playground-series-s3e16/test.csv\n"
     ]
    }
   ],
   "source": [
    "# This Python 3 environment comes with many helpful analytics libraries installed\n",
    "# It is defined by the kaggle/python Docker image: https://github.com/kaggle/docker-python\n",
    "# For example, here's several helpful packages to load\n",
    "\n",
    "import numpy as np # linear algebra\n",
    "import pandas as pd # data processing, CSV file I/O (e.g. pd.read_csv)\n",
    "\n",
    "# Input data files are available in the read-only \"../input/\" directory\n",
    "# For example, running this (by clicking run or pressing Shift+Enter) will list all files under the input directory\n",
    "\n",
    "import os\n",
    "for dirname, _, filenames in os.walk('/kaggle/input'):\n",
    "    for filename in filenames:\n",
    "        print(os.path.join(dirname, filename))\n",
    "\n",
    "# You can write up to 20GB to the current directory (/kaggle/working/) that gets preserved as output when you create a version using \"Save & Run All\" \n",
    "# You can also write temporary files to /kaggle/temp/, but they won't be saved outside of the current session"
   ]
  },
  {
   "cell_type": "code",
   "execution_count": 2,
   "id": "201e4d5a",
   "metadata": {
    "execution": {
     "iopub.execute_input": "2023-06-12T12:37:42.056287Z",
     "iopub.status.busy": "2023-06-12T12:37:42.055509Z",
     "iopub.status.idle": "2023-06-12T12:37:42.273328Z",
     "shell.execute_reply": "2023-06-12T12:37:42.271755Z"
    },
    "papermill": {
     "duration": 0.230367,
     "end_time": "2023-06-12T12:37:42.275868",
     "exception": false,
     "start_time": "2023-06-12T12:37:42.045501",
     "status": "completed"
    },
    "tags": []
   },
   "outputs": [],
   "source": [
    "train = pd.read_csv('/kaggle/input/playground-series-s3e16/train.csv')\n",
    "test = pd.read_csv('/kaggle/input/playground-series-s3e16/test.csv')"
   ]
  },
  {
   "cell_type": "code",
   "execution_count": 3,
   "id": "5315a1c4",
   "metadata": {
    "execution": {
     "iopub.execute_input": "2023-06-12T12:37:42.289977Z",
     "iopub.status.busy": "2023-06-12T12:37:42.289526Z",
     "iopub.status.idle": "2023-06-12T12:37:42.323295Z",
     "shell.execute_reply": "2023-06-12T12:37:42.322132Z"
    },
    "papermill": {
     "duration": 0.043659,
     "end_time": "2023-06-12T12:37:42.325588",
     "exception": false,
     "start_time": "2023-06-12T12:37:42.281929",
     "status": "completed"
    },
    "tags": []
   },
   "outputs": [
    {
     "data": {
      "text/html": [
       "<div>\n",
       "<style scoped>\n",
       "    .dataframe tbody tr th:only-of-type {\n",
       "        vertical-align: middle;\n",
       "    }\n",
       "\n",
       "    .dataframe tbody tr th {\n",
       "        vertical-align: top;\n",
       "    }\n",
       "\n",
       "    .dataframe thead th {\n",
       "        text-align: right;\n",
       "    }\n",
       "</style>\n",
       "<table border=\"1\" class=\"dataframe\">\n",
       "  <thead>\n",
       "    <tr style=\"text-align: right;\">\n",
       "      <th></th>\n",
       "      <th>id</th>\n",
       "      <th>Sex</th>\n",
       "      <th>Length</th>\n",
       "      <th>Diameter</th>\n",
       "      <th>Height</th>\n",
       "      <th>Weight</th>\n",
       "      <th>Shucked Weight</th>\n",
       "      <th>Viscera Weight</th>\n",
       "      <th>Shell Weight</th>\n",
       "      <th>Age</th>\n",
       "    </tr>\n",
       "  </thead>\n",
       "  <tbody>\n",
       "    <tr>\n",
       "      <th>0</th>\n",
       "      <td>0</td>\n",
       "      <td>I</td>\n",
       "      <td>1.5250</td>\n",
       "      <td>1.1750</td>\n",
       "      <td>0.3750</td>\n",
       "      <td>28.973189</td>\n",
       "      <td>12.728926</td>\n",
       "      <td>6.647958</td>\n",
       "      <td>8.348928</td>\n",
       "      <td>9</td>\n",
       "    </tr>\n",
       "    <tr>\n",
       "      <th>1</th>\n",
       "      <td>1</td>\n",
       "      <td>I</td>\n",
       "      <td>1.1000</td>\n",
       "      <td>0.8250</td>\n",
       "      <td>0.2750</td>\n",
       "      <td>10.418441</td>\n",
       "      <td>4.521745</td>\n",
       "      <td>2.324659</td>\n",
       "      <td>3.401940</td>\n",
       "      <td>8</td>\n",
       "    </tr>\n",
       "    <tr>\n",
       "      <th>2</th>\n",
       "      <td>2</td>\n",
       "      <td>M</td>\n",
       "      <td>1.3875</td>\n",
       "      <td>1.1125</td>\n",
       "      <td>0.3750</td>\n",
       "      <td>24.777463</td>\n",
       "      <td>11.339800</td>\n",
       "      <td>5.556502</td>\n",
       "      <td>6.662133</td>\n",
       "      <td>9</td>\n",
       "    </tr>\n",
       "    <tr>\n",
       "      <th>3</th>\n",
       "      <td>3</td>\n",
       "      <td>F</td>\n",
       "      <td>1.7000</td>\n",
       "      <td>1.4125</td>\n",
       "      <td>0.5000</td>\n",
       "      <td>50.660556</td>\n",
       "      <td>20.354941</td>\n",
       "      <td>10.991839</td>\n",
       "      <td>14.996885</td>\n",
       "      <td>11</td>\n",
       "    </tr>\n",
       "    <tr>\n",
       "      <th>4</th>\n",
       "      <td>4</td>\n",
       "      <td>I</td>\n",
       "      <td>1.2500</td>\n",
       "      <td>1.0125</td>\n",
       "      <td>0.3375</td>\n",
       "      <td>23.289114</td>\n",
       "      <td>11.977664</td>\n",
       "      <td>4.507570</td>\n",
       "      <td>5.953395</td>\n",
       "      <td>8</td>\n",
       "    </tr>\n",
       "  </tbody>\n",
       "</table>\n",
       "</div>"
      ],
      "text/plain": [
       "   id Sex  Length  Diameter  Height     Weight  Shucked Weight  \\\n",
       "0   0   I  1.5250    1.1750  0.3750  28.973189       12.728926   \n",
       "1   1   I  1.1000    0.8250  0.2750  10.418441        4.521745   \n",
       "2   2   M  1.3875    1.1125  0.3750  24.777463       11.339800   \n",
       "3   3   F  1.7000    1.4125  0.5000  50.660556       20.354941   \n",
       "4   4   I  1.2500    1.0125  0.3375  23.289114       11.977664   \n",
       "\n",
       "   Viscera Weight  Shell Weight  Age  \n",
       "0        6.647958      8.348928    9  \n",
       "1        2.324659      3.401940    8  \n",
       "2        5.556502      6.662133    9  \n",
       "3       10.991839     14.996885   11  \n",
       "4        4.507570      5.953395    8  "
      ]
     },
     "execution_count": 3,
     "metadata": {},
     "output_type": "execute_result"
    }
   ],
   "source": [
    "train.head()"
   ]
  },
  {
   "cell_type": "code",
   "execution_count": 4,
   "id": "3366f75e",
   "metadata": {
    "execution": {
     "iopub.execute_input": "2023-06-12T12:37:42.342001Z",
     "iopub.status.busy": "2023-06-12T12:37:42.341573Z",
     "iopub.status.idle": "2023-06-12T12:37:42.383875Z",
     "shell.execute_reply": "2023-06-12T12:37:42.382184Z"
    },
    "papermill": {
     "duration": 0.054013,
     "end_time": "2023-06-12T12:37:42.386491",
     "exception": false,
     "start_time": "2023-06-12T12:37:42.332478",
     "status": "completed"
    },
    "tags": []
   },
   "outputs": [
    {
     "name": "stdout",
     "output_type": "stream",
     "text": [
      "<class 'pandas.core.frame.DataFrame'>\n",
      "RangeIndex: 74051 entries, 0 to 74050\n",
      "Data columns (total 10 columns):\n",
      " #   Column          Non-Null Count  Dtype  \n",
      "---  ------          --------------  -----  \n",
      " 0   id              74051 non-null  int64  \n",
      " 1   Sex             74051 non-null  object \n",
      " 2   Length          74051 non-null  float64\n",
      " 3   Diameter        74051 non-null  float64\n",
      " 4   Height          74051 non-null  float64\n",
      " 5   Weight          74051 non-null  float64\n",
      " 6   Shucked Weight  74051 non-null  float64\n",
      " 7   Viscera Weight  74051 non-null  float64\n",
      " 8   Shell Weight    74051 non-null  float64\n",
      " 9   Age             74051 non-null  int64  \n",
      "dtypes: float64(7), int64(2), object(1)\n",
      "memory usage: 5.6+ MB\n"
     ]
    }
   ],
   "source": [
    "train.info()"
   ]
  },
  {
   "cell_type": "code",
   "execution_count": 5,
   "id": "1c1a4f57",
   "metadata": {
    "execution": {
     "iopub.execute_input": "2023-06-12T12:37:42.400934Z",
     "iopub.status.busy": "2023-06-12T12:37:42.400558Z",
     "iopub.status.idle": "2023-06-12T12:37:42.414306Z",
     "shell.execute_reply": "2023-06-12T12:37:42.412583Z"
    },
    "papermill": {
     "duration": 0.024444,
     "end_time": "2023-06-12T12:37:42.417336",
     "exception": false,
     "start_time": "2023-06-12T12:37:42.392892",
     "status": "completed"
    },
    "tags": []
   },
   "outputs": [
    {
     "data": {
      "text/plain": [
       "M    27084\n",
       "I    23957\n",
       "F    23010\n",
       "Name: Sex, dtype: int64"
      ]
     },
     "execution_count": 5,
     "metadata": {},
     "output_type": "execute_result"
    }
   ],
   "source": [
    "train['Sex'].value_counts()"
   ]
  },
  {
   "cell_type": "code",
   "execution_count": 6,
   "id": "0cc16f44",
   "metadata": {
    "execution": {
     "iopub.execute_input": "2023-06-12T12:37:42.433310Z",
     "iopub.status.busy": "2023-06-12T12:37:42.432917Z",
     "iopub.status.idle": "2023-06-12T12:37:42.496436Z",
     "shell.execute_reply": "2023-06-12T12:37:42.495558Z"
    },
    "papermill": {
     "duration": 0.075599,
     "end_time": "2023-06-12T12:37:42.499716",
     "exception": false,
     "start_time": "2023-06-12T12:37:42.424117",
     "status": "completed"
    },
    "tags": []
   },
   "outputs": [
    {
     "data": {
      "text/html": [
       "<div>\n",
       "<style scoped>\n",
       "    .dataframe tbody tr th:only-of-type {\n",
       "        vertical-align: middle;\n",
       "    }\n",
       "\n",
       "    .dataframe tbody tr th {\n",
       "        vertical-align: top;\n",
       "    }\n",
       "\n",
       "    .dataframe thead th {\n",
       "        text-align: right;\n",
       "    }\n",
       "</style>\n",
       "<table border=\"1\" class=\"dataframe\">\n",
       "  <thead>\n",
       "    <tr style=\"text-align: right;\">\n",
       "      <th></th>\n",
       "      <th>id</th>\n",
       "      <th>Length</th>\n",
       "      <th>Diameter</th>\n",
       "      <th>Height</th>\n",
       "      <th>Weight</th>\n",
       "      <th>Shucked Weight</th>\n",
       "      <th>Viscera Weight</th>\n",
       "      <th>Shell Weight</th>\n",
       "      <th>Age</th>\n",
       "    </tr>\n",
       "  </thead>\n",
       "  <tbody>\n",
       "    <tr>\n",
       "      <th>count</th>\n",
       "      <td>74051.000000</td>\n",
       "      <td>74051.000000</td>\n",
       "      <td>74051.000000</td>\n",
       "      <td>74051.000000</td>\n",
       "      <td>74051.000000</td>\n",
       "      <td>74051.000000</td>\n",
       "      <td>74051.000000</td>\n",
       "      <td>74051.000000</td>\n",
       "      <td>74051.000000</td>\n",
       "    </tr>\n",
       "    <tr>\n",
       "      <th>mean</th>\n",
       "      <td>37025.000000</td>\n",
       "      <td>1.317460</td>\n",
       "      <td>1.024496</td>\n",
       "      <td>0.348089</td>\n",
       "      <td>23.385217</td>\n",
       "      <td>10.104270</td>\n",
       "      <td>5.058386</td>\n",
       "      <td>6.723870</td>\n",
       "      <td>9.967806</td>\n",
       "    </tr>\n",
       "    <tr>\n",
       "      <th>std</th>\n",
       "      <td>21376.826729</td>\n",
       "      <td>0.287757</td>\n",
       "      <td>0.237396</td>\n",
       "      <td>0.092034</td>\n",
       "      <td>12.648153</td>\n",
       "      <td>5.618025</td>\n",
       "      <td>2.792729</td>\n",
       "      <td>3.584372</td>\n",
       "      <td>3.175189</td>\n",
       "    </tr>\n",
       "    <tr>\n",
       "      <th>min</th>\n",
       "      <td>0.000000</td>\n",
       "      <td>0.187500</td>\n",
       "      <td>0.137500</td>\n",
       "      <td>0.000000</td>\n",
       "      <td>0.056699</td>\n",
       "      <td>0.028349</td>\n",
       "      <td>0.042524</td>\n",
       "      <td>0.042524</td>\n",
       "      <td>1.000000</td>\n",
       "    </tr>\n",
       "    <tr>\n",
       "      <th>25%</th>\n",
       "      <td>18512.500000</td>\n",
       "      <td>1.150000</td>\n",
       "      <td>0.887500</td>\n",
       "      <td>0.300000</td>\n",
       "      <td>13.437663</td>\n",
       "      <td>5.712424</td>\n",
       "      <td>2.863300</td>\n",
       "      <td>3.968930</td>\n",
       "      <td>8.000000</td>\n",
       "    </tr>\n",
       "    <tr>\n",
       "      <th>50%</th>\n",
       "      <td>37025.000000</td>\n",
       "      <td>1.375000</td>\n",
       "      <td>1.075000</td>\n",
       "      <td>0.362500</td>\n",
       "      <td>23.799405</td>\n",
       "      <td>9.908150</td>\n",
       "      <td>4.989512</td>\n",
       "      <td>6.931453</td>\n",
       "      <td>10.000000</td>\n",
       "    </tr>\n",
       "    <tr>\n",
       "      <th>75%</th>\n",
       "      <td>55537.500000</td>\n",
       "      <td>1.537500</td>\n",
       "      <td>1.200000</td>\n",
       "      <td>0.412500</td>\n",
       "      <td>32.162508</td>\n",
       "      <td>14.033003</td>\n",
       "      <td>6.988152</td>\n",
       "      <td>9.071840</td>\n",
       "      <td>11.000000</td>\n",
       "    </tr>\n",
       "    <tr>\n",
       "      <th>max</th>\n",
       "      <td>74050.000000</td>\n",
       "      <td>2.012815</td>\n",
       "      <td>1.612500</td>\n",
       "      <td>2.825000</td>\n",
       "      <td>80.101512</td>\n",
       "      <td>42.184056</td>\n",
       "      <td>21.545620</td>\n",
       "      <td>28.491248</td>\n",
       "      <td>29.000000</td>\n",
       "    </tr>\n",
       "  </tbody>\n",
       "</table>\n",
       "</div>"
      ],
      "text/plain": [
       "                 id        Length      Diameter        Height        Weight  \\\n",
       "count  74051.000000  74051.000000  74051.000000  74051.000000  74051.000000   \n",
       "mean   37025.000000      1.317460      1.024496      0.348089     23.385217   \n",
       "std    21376.826729      0.287757      0.237396      0.092034     12.648153   \n",
       "min        0.000000      0.187500      0.137500      0.000000      0.056699   \n",
       "25%    18512.500000      1.150000      0.887500      0.300000     13.437663   \n",
       "50%    37025.000000      1.375000      1.075000      0.362500     23.799405   \n",
       "75%    55537.500000      1.537500      1.200000      0.412500     32.162508   \n",
       "max    74050.000000      2.012815      1.612500      2.825000     80.101512   \n",
       "\n",
       "       Shucked Weight  Viscera Weight  Shell Weight           Age  \n",
       "count    74051.000000    74051.000000  74051.000000  74051.000000  \n",
       "mean        10.104270        5.058386      6.723870      9.967806  \n",
       "std          5.618025        2.792729      3.584372      3.175189  \n",
       "min          0.028349        0.042524      0.042524      1.000000  \n",
       "25%          5.712424        2.863300      3.968930      8.000000  \n",
       "50%          9.908150        4.989512      6.931453     10.000000  \n",
       "75%         14.033003        6.988152      9.071840     11.000000  \n",
       "max         42.184056       21.545620     28.491248     29.000000  "
      ]
     },
     "execution_count": 6,
     "metadata": {},
     "output_type": "execute_result"
    }
   ],
   "source": [
    "train.describe()"
   ]
  },
  {
   "cell_type": "code",
   "execution_count": 7,
   "id": "14d99fc5",
   "metadata": {
    "execution": {
     "iopub.execute_input": "2023-06-12T12:37:42.515223Z",
     "iopub.status.busy": "2023-06-12T12:37:42.514866Z",
     "iopub.status.idle": "2023-06-12T12:37:42.539331Z",
     "shell.execute_reply": "2023-06-12T12:37:42.537654Z"
    },
    "papermill": {
     "duration": 0.035257,
     "end_time": "2023-06-12T12:37:42.542025",
     "exception": false,
     "start_time": "2023-06-12T12:37:42.506768",
     "status": "completed"
    },
    "tags": []
   },
   "outputs": [
    {
     "name": "stderr",
     "output_type": "stream",
     "text": [
      "/tmp/ipykernel_20/1550658072.py:1: FutureWarning: The default value of numeric_only in DataFrame.corr is deprecated. In a future version, it will default to False. Select only valid columns or specify the value of numeric_only to silence this warning.\n",
      "  corr_matrix = train.corr()\n"
     ]
    }
   ],
   "source": [
    "corr_matrix = train.corr()"
   ]
  },
  {
   "cell_type": "code",
   "execution_count": 8,
   "id": "230eb457",
   "metadata": {
    "execution": {
     "iopub.execute_input": "2023-06-12T12:37:42.557482Z",
     "iopub.status.busy": "2023-06-12T12:37:42.557113Z",
     "iopub.status.idle": "2023-06-12T12:37:42.566785Z",
     "shell.execute_reply": "2023-06-12T12:37:42.565297Z"
    },
    "papermill": {
     "duration": 0.020497,
     "end_time": "2023-06-12T12:37:42.569734",
     "exception": false,
     "start_time": "2023-06-12T12:37:42.549237",
     "status": "completed"
    },
    "tags": []
   },
   "outputs": [
    {
     "data": {
      "text/plain": [
       "Age               1.000000\n",
       "Shell Weight      0.663473\n",
       "Height            0.638067\n",
       "Diameter          0.621256\n",
       "Length            0.612843\n",
       "Weight            0.601195\n",
       "Viscera Weight    0.576808\n",
       "Shucked Weight    0.503320\n",
       "id                0.000089\n",
       "Name: Age, dtype: float64"
      ]
     },
     "execution_count": 8,
     "metadata": {},
     "output_type": "execute_result"
    }
   ],
   "source": [
    "corr_matrix['Age'].sort_values(ascending=False)"
   ]
  },
  {
   "cell_type": "code",
   "execution_count": 9,
   "id": "23daaf28",
   "metadata": {
    "execution": {
     "iopub.execute_input": "2023-06-12T12:37:42.586285Z",
     "iopub.status.busy": "2023-06-12T12:37:42.585873Z",
     "iopub.status.idle": "2023-06-12T12:37:42.602791Z",
     "shell.execute_reply": "2023-06-12T12:37:42.601331Z"
    },
    "papermill": {
     "duration": 0.028487,
     "end_time": "2023-06-12T12:37:42.605649",
     "exception": false,
     "start_time": "2023-06-12T12:37:42.577162",
     "status": "completed"
    },
    "tags": []
   },
   "outputs": [],
   "source": [
    "#Adding Feature engineering\n",
    "\n",
    "train['viscera_ratio'] = train['Viscera Weight'] / train['Weight']\n",
    "train['shell_ratio'] = train['Shell Weight'] / train['Weight']\n",
    "train['Surface Area'] = 2 * (train['Length'] * train['Diameter'] + train['Length'] * train['Height'] + train['Diameter'] * train['Height'])\n",
    "train['Volume'] = train['Length'] * train['Diameter'] * train['Height']\n",
    "\n",
    "test['viscera_ratio'] = test['Viscera Weight'] / test['Weight']\n",
    "test['shell_ratio'] = test['Shell Weight'] / test['Weight']\n",
    "test['Surface Area'] = 2 * (test['Length'] * test['Diameter'] + test['Length'] * test['Height'] + test['Diameter'] * test['Height'])\n",
    "test['Volume'] = test['Length'] * test['Diameter'] * test['Height']"
   ]
  },
  {
   "cell_type": "code",
   "execution_count": 10,
   "id": "5ab01fa9",
   "metadata": {
    "execution": {
     "iopub.execute_input": "2023-06-12T12:37:42.621188Z",
     "iopub.status.busy": "2023-06-12T12:37:42.620824Z",
     "iopub.status.idle": "2023-06-12T12:37:42.659832Z",
     "shell.execute_reply": "2023-06-12T12:37:42.658548Z"
    },
    "papermill": {
     "duration": 0.049328,
     "end_time": "2023-06-12T12:37:42.661965",
     "exception": false,
     "start_time": "2023-06-12T12:37:42.612637",
     "status": "completed"
    },
    "tags": []
   },
   "outputs": [
    {
     "name": "stderr",
     "output_type": "stream",
     "text": [
      "/tmp/ipykernel_20/1550658072.py:1: FutureWarning: The default value of numeric_only in DataFrame.corr is deprecated. In a future version, it will default to False. Select only valid columns or specify the value of numeric_only to silence this warning.\n",
      "  corr_matrix = train.corr()\n"
     ]
    }
   ],
   "source": [
    "corr_matrix = train.corr()"
   ]
  },
  {
   "cell_type": "code",
   "execution_count": 11,
   "id": "62593581",
   "metadata": {
    "execution": {
     "iopub.execute_input": "2023-06-12T12:37:42.678339Z",
     "iopub.status.busy": "2023-06-12T12:37:42.677974Z",
     "iopub.status.idle": "2023-06-12T12:37:42.688000Z",
     "shell.execute_reply": "2023-06-12T12:37:42.686196Z"
    },
    "papermill": {
     "duration": 0.021291,
     "end_time": "2023-06-12T12:37:42.690931",
     "exception": false,
     "start_time": "2023-06-12T12:37:42.669640",
     "status": "completed"
    },
    "tags": []
   },
   "outputs": [
    {
     "data": {
      "text/plain": [
       "Age               1.000000\n",
       "Shell Weight      0.663473\n",
       "Height            0.638067\n",
       "Surface Area      0.621660\n",
       "Diameter          0.621256\n",
       "Length            0.612843\n",
       "Volume            0.607129\n",
       "Weight            0.601195\n",
       "Viscera Weight    0.576808\n",
       "Shucked Weight    0.503320\n",
       "shell_ratio       0.091076\n",
       "id                0.000089\n",
       "viscera_ratio    -0.046799\n",
       "Name: Age, dtype: float64"
      ]
     },
     "execution_count": 11,
     "metadata": {},
     "output_type": "execute_result"
    }
   ],
   "source": [
    "corr_matrix['Age'].sort_values(ascending=False)"
   ]
  },
  {
   "cell_type": "code",
   "execution_count": 12,
   "id": "62064f50",
   "metadata": {
    "execution": {
     "iopub.execute_input": "2023-06-12T12:37:42.707287Z",
     "iopub.status.busy": "2023-06-12T12:37:42.706906Z",
     "iopub.status.idle": "2023-06-12T12:37:42.719568Z",
     "shell.execute_reply": "2023-06-12T12:37:42.718134Z"
    },
    "papermill": {
     "duration": 0.024368,
     "end_time": "2023-06-12T12:37:42.722548",
     "exception": false,
     "start_time": "2023-06-12T12:37:42.698180",
     "status": "completed"
    },
    "tags": []
   },
   "outputs": [],
   "source": [
    "X = train.drop('Age', axis=1)\n",
    "y = train['Age'].copy()"
   ]
  },
  {
   "cell_type": "code",
   "execution_count": 13,
   "id": "3f9af6bb",
   "metadata": {
    "execution": {
     "iopub.execute_input": "2023-06-12T12:37:42.738723Z",
     "iopub.status.busy": "2023-06-12T12:37:42.738316Z",
     "iopub.status.idle": "2023-06-12T12:37:42.752110Z",
     "shell.execute_reply": "2023-06-12T12:37:42.750716Z"
    },
    "papermill": {
     "duration": 0.025056,
     "end_time": "2023-06-12T12:37:42.754780",
     "exception": false,
     "start_time": "2023-06-12T12:37:42.729724",
     "status": "completed"
    },
    "tags": []
   },
   "outputs": [],
   "source": [
    "categorical_cols = X.select_dtypes(include=\"object\").columns\n",
    "numerical_cols = X.select_dtypes(exclude=\"object\").columns"
   ]
  },
  {
   "cell_type": "code",
   "execution_count": 14,
   "id": "a970aefc",
   "metadata": {
    "execution": {
     "iopub.execute_input": "2023-06-12T12:37:42.769785Z",
     "iopub.status.busy": "2023-06-12T12:37:42.769421Z",
     "iopub.status.idle": "2023-06-12T12:37:44.342913Z",
     "shell.execute_reply": "2023-06-12T12:37:44.341371Z"
    },
    "papermill": {
     "duration": 1.58465,
     "end_time": "2023-06-12T12:37:44.346170",
     "exception": false,
     "start_time": "2023-06-12T12:37:42.761520",
     "status": "completed"
    },
    "tags": []
   },
   "outputs": [],
   "source": [
    "from sklearn.compose import ColumnTransformer\n",
    "from sklearn.pipeline import Pipeline\n",
    "from sklearn.preprocessing import OneHotEncoder\n",
    "from sklearn.preprocessing import StandardScaler\n",
    "\n",
    "numerical_transformer = Pipeline([('std_scaler', StandardScaler())])\n",
    "\n",
    "categorical_transformer = Pipeline(steps=[('onehot', OneHotEncoder(handle_unknown='ignore'))\n",
    "])\n",
    "\n",
    "\n",
    "preprocessor = ColumnTransformer(\n",
    "    transformers=[\n",
    "        ('num', numerical_transformer, numerical_cols),\n",
    "        ('cat', categorical_transformer, categorical_cols)\n",
    "    ])"
   ]
  },
  {
   "cell_type": "code",
   "execution_count": 15,
   "id": "c961d422",
   "metadata": {
    "execution": {
     "iopub.execute_input": "2023-06-12T12:37:44.367110Z",
     "iopub.status.busy": "2023-06-12T12:37:44.366072Z",
     "iopub.status.idle": "2023-06-12T12:37:44.460849Z",
     "shell.execute_reply": "2023-06-12T12:37:44.459466Z"
    },
    "papermill": {
     "duration": 0.108234,
     "end_time": "2023-06-12T12:37:44.463351",
     "exception": false,
     "start_time": "2023-06-12T12:37:44.355117",
     "status": "completed"
    },
    "tags": []
   },
   "outputs": [],
   "source": [
    "train_prepared = preprocessor.fit_transform(X)\n",
    "test_prepared = preprocessor.transform(test)"
   ]
  },
  {
   "cell_type": "code",
   "execution_count": 16,
   "id": "43213cc7",
   "metadata": {
    "execution": {
     "iopub.execute_input": "2023-06-12T12:37:44.480947Z",
     "iopub.status.busy": "2023-06-12T12:37:44.480461Z",
     "iopub.status.idle": "2023-06-12T12:37:45.057135Z",
     "shell.execute_reply": "2023-06-12T12:37:45.056096Z"
    },
    "papermill": {
     "duration": 0.58816,
     "end_time": "2023-06-12T12:37:45.059938",
     "exception": false,
     "start_time": "2023-06-12T12:37:44.471778",
     "status": "completed"
    },
    "tags": []
   },
   "outputs": [],
   "source": [
    "from sklearn.ensemble import RandomForestRegressor\n",
    "\n",
    "\n",
    "forest = RandomForestRegressor()"
   ]
  },
  {
   "cell_type": "code",
   "execution_count": 17,
   "id": "684113e3",
   "metadata": {
    "execution": {
     "iopub.execute_input": "2023-06-12T12:37:45.076929Z",
     "iopub.status.busy": "2023-06-12T12:37:45.076402Z",
     "iopub.status.idle": "2023-06-12T12:39:08.301587Z",
     "shell.execute_reply": "2023-06-12T12:39:08.299375Z"
    },
    "papermill": {
     "duration": 83.244724,
     "end_time": "2023-06-12T12:39:08.311998",
     "exception": false,
     "start_time": "2023-06-12T12:37:45.067274",
     "status": "completed"
    },
    "tags": []
   },
   "outputs": [
    {
     "data": {
      "text/html": [
       "<style>#sk-container-id-1 {color: black;background-color: white;}#sk-container-id-1 pre{padding: 0;}#sk-container-id-1 div.sk-toggleable {background-color: white;}#sk-container-id-1 label.sk-toggleable__label {cursor: pointer;display: block;width: 100%;margin-bottom: 0;padding: 0.3em;box-sizing: border-box;text-align: center;}#sk-container-id-1 label.sk-toggleable__label-arrow:before {content: \"▸\";float: left;margin-right: 0.25em;color: #696969;}#sk-container-id-1 label.sk-toggleable__label-arrow:hover:before {color: black;}#sk-container-id-1 div.sk-estimator:hover label.sk-toggleable__label-arrow:before {color: black;}#sk-container-id-1 div.sk-toggleable__content {max-height: 0;max-width: 0;overflow: hidden;text-align: left;background-color: #f0f8ff;}#sk-container-id-1 div.sk-toggleable__content pre {margin: 0.2em;color: black;border-radius: 0.25em;background-color: #f0f8ff;}#sk-container-id-1 input.sk-toggleable__control:checked~div.sk-toggleable__content {max-height: 200px;max-width: 100%;overflow: auto;}#sk-container-id-1 input.sk-toggleable__control:checked~label.sk-toggleable__label-arrow:before {content: \"▾\";}#sk-container-id-1 div.sk-estimator input.sk-toggleable__control:checked~label.sk-toggleable__label {background-color: #d4ebff;}#sk-container-id-1 div.sk-label input.sk-toggleable__control:checked~label.sk-toggleable__label {background-color: #d4ebff;}#sk-container-id-1 input.sk-hidden--visually {border: 0;clip: rect(1px 1px 1px 1px);clip: rect(1px, 1px, 1px, 1px);height: 1px;margin: -1px;overflow: hidden;padding: 0;position: absolute;width: 1px;}#sk-container-id-1 div.sk-estimator {font-family: monospace;background-color: #f0f8ff;border: 1px dotted black;border-radius: 0.25em;box-sizing: border-box;margin-bottom: 0.5em;}#sk-container-id-1 div.sk-estimator:hover {background-color: #d4ebff;}#sk-container-id-1 div.sk-parallel-item::after {content: \"\";width: 100%;border-bottom: 1px solid gray;flex-grow: 1;}#sk-container-id-1 div.sk-label:hover label.sk-toggleable__label {background-color: #d4ebff;}#sk-container-id-1 div.sk-serial::before {content: \"\";position: absolute;border-left: 1px solid gray;box-sizing: border-box;top: 0;bottom: 0;left: 50%;z-index: 0;}#sk-container-id-1 div.sk-serial {display: flex;flex-direction: column;align-items: center;background-color: white;padding-right: 0.2em;padding-left: 0.2em;position: relative;}#sk-container-id-1 div.sk-item {position: relative;z-index: 1;}#sk-container-id-1 div.sk-parallel {display: flex;align-items: stretch;justify-content: center;background-color: white;position: relative;}#sk-container-id-1 div.sk-item::before, #sk-container-id-1 div.sk-parallel-item::before {content: \"\";position: absolute;border-left: 1px solid gray;box-sizing: border-box;top: 0;bottom: 0;left: 50%;z-index: -1;}#sk-container-id-1 div.sk-parallel-item {display: flex;flex-direction: column;z-index: 1;position: relative;background-color: white;}#sk-container-id-1 div.sk-parallel-item:first-child::after {align-self: flex-end;width: 50%;}#sk-container-id-1 div.sk-parallel-item:last-child::after {align-self: flex-start;width: 50%;}#sk-container-id-1 div.sk-parallel-item:only-child::after {width: 0;}#sk-container-id-1 div.sk-dashed-wrapped {border: 1px dashed gray;margin: 0 0.4em 0.5em 0.4em;box-sizing: border-box;padding-bottom: 0.4em;background-color: white;}#sk-container-id-1 div.sk-label label {font-family: monospace;font-weight: bold;display: inline-block;line-height: 1.2em;}#sk-container-id-1 div.sk-label-container {text-align: center;}#sk-container-id-1 div.sk-container {/* jupyter's `normalize.less` sets `[hidden] { display: none; }` but bootstrap.min.css set `[hidden] { display: none !important; }` so we also need the `!important` here to be able to override the default hidden behavior on the sphinx rendered scikit-learn.org. See: https://github.com/scikit-learn/scikit-learn/issues/21755 */display: inline-block !important;position: relative;}#sk-container-id-1 div.sk-text-repr-fallback {display: none;}</style><div id=\"sk-container-id-1\" class=\"sk-top-container\"><div class=\"sk-text-repr-fallback\"><pre>RandomForestRegressor()</pre><b>In a Jupyter environment, please rerun this cell to show the HTML representation or trust the notebook. <br />On GitHub, the HTML representation is unable to render, please try loading this page with nbviewer.org.</b></div><div class=\"sk-container\" hidden><div class=\"sk-item\"><div class=\"sk-estimator sk-toggleable\"><input class=\"sk-toggleable__control sk-hidden--visually\" id=\"sk-estimator-id-1\" type=\"checkbox\" checked><label for=\"sk-estimator-id-1\" class=\"sk-toggleable__label sk-toggleable__label-arrow\">RandomForestRegressor</label><div class=\"sk-toggleable__content\"><pre>RandomForestRegressor()</pre></div></div></div></div></div>"
      ],
      "text/plain": [
       "RandomForestRegressor()"
      ]
     },
     "execution_count": 17,
     "metadata": {},
     "output_type": "execute_result"
    }
   ],
   "source": [
    "forest.fit(train_prepared,y)"
   ]
  },
  {
   "cell_type": "code",
   "execution_count": 18,
   "id": "5f9f6e11",
   "metadata": {
    "execution": {
     "iopub.execute_input": "2023-06-12T12:39:08.331581Z",
     "iopub.status.busy": "2023-06-12T12:39:08.331228Z",
     "iopub.status.idle": "2023-06-12T12:39:10.592906Z",
     "shell.execute_reply": "2023-06-12T12:39:10.591565Z"
    },
    "papermill": {
     "duration": 2.275263,
     "end_time": "2023-06-12T12:39:10.595397",
     "exception": false,
     "start_time": "2023-06-12T12:39:08.320134",
     "status": "completed"
    },
    "tags": []
   },
   "outputs": [],
   "source": [
    "predictions = forest.predict(train_prepared)"
   ]
  },
  {
   "cell_type": "code",
   "execution_count": 19,
   "id": "e813a761",
   "metadata": {
    "execution": {
     "iopub.execute_input": "2023-06-12T12:39:10.613567Z",
     "iopub.status.busy": "2023-06-12T12:39:10.613227Z",
     "iopub.status.idle": "2023-06-12T12:39:10.622858Z",
     "shell.execute_reply": "2023-06-12T12:39:10.621088Z"
    },
    "papermill": {
     "duration": 0.021694,
     "end_time": "2023-06-12T12:39:10.625098",
     "exception": false,
     "start_time": "2023-06-12T12:39:10.603404",
     "status": "completed"
    },
    "tags": []
   },
   "outputs": [
    {
     "data": {
      "text/plain": [
       "0.7865163294059415"
      ]
     },
     "execution_count": 19,
     "metadata": {},
     "output_type": "execute_result"
    }
   ],
   "source": [
    "from sklearn.metrics import mean_squared_error \n",
    "\n",
    "mse = mean_squared_error(y, predictions)\n",
    "rmse = np.sqrt(mse)\n",
    "rmse"
   ]
  },
  {
   "cell_type": "code",
   "execution_count": 20,
   "id": "a16e3ef2",
   "metadata": {
    "execution": {
     "iopub.execute_input": "2023-06-12T12:39:10.640996Z",
     "iopub.status.busy": "2023-06-12T12:39:10.640574Z",
     "iopub.status.idle": "2023-06-12T12:39:10.648905Z",
     "shell.execute_reply": "2023-06-12T12:39:10.647036Z"
    },
    "papermill": {
     "duration": 0.019232,
     "end_time": "2023-06-12T12:39:10.651402",
     "exception": false,
     "start_time": "2023-06-12T12:39:10.632170",
     "status": "completed"
    },
    "tags": []
   },
   "outputs": [
    {
     "data": {
      "text/plain": [
       "0.6186079364221955"
      ]
     },
     "execution_count": 20,
     "metadata": {},
     "output_type": "execute_result"
    }
   ],
   "source": [
    "mse"
   ]
  },
  {
   "cell_type": "code",
   "execution_count": 21,
   "id": "75ae9da3",
   "metadata": {
    "execution": {
     "iopub.execute_input": "2023-06-12T12:39:10.668042Z",
     "iopub.status.busy": "2023-06-12T12:39:10.667667Z",
     "iopub.status.idle": "2023-06-12T12:39:10.672334Z",
     "shell.execute_reply": "2023-06-12T12:39:10.671158Z"
    },
    "papermill": {
     "duration": 0.015841,
     "end_time": "2023-06-12T12:39:10.674671",
     "exception": false,
     "start_time": "2023-06-12T12:39:10.658830",
     "status": "completed"
    },
    "tags": []
   },
   "outputs": [],
   "source": [
    "from sklearn.model_selection import RandomizedSearchCV"
   ]
  },
  {
   "cell_type": "code",
   "execution_count": 22,
   "id": "fb2e4d93",
   "metadata": {
    "execution": {
     "iopub.execute_input": "2023-06-12T12:39:10.691060Z",
     "iopub.status.busy": "2023-06-12T12:39:10.690671Z",
     "iopub.status.idle": "2023-06-12T12:41:55.172244Z",
     "shell.execute_reply": "2023-06-12T12:41:55.170723Z"
    },
    "papermill": {
     "duration": 164.498258,
     "end_time": "2023-06-12T12:41:55.180355",
     "exception": false,
     "start_time": "2023-06-12T12:39:10.682097",
     "status": "completed"
    },
    "tags": []
   },
   "outputs": [
    {
     "data": {
      "text/html": [
       "<style>#sk-container-id-2 {color: black;background-color: white;}#sk-container-id-2 pre{padding: 0;}#sk-container-id-2 div.sk-toggleable {background-color: white;}#sk-container-id-2 label.sk-toggleable__label {cursor: pointer;display: block;width: 100%;margin-bottom: 0;padding: 0.3em;box-sizing: border-box;text-align: center;}#sk-container-id-2 label.sk-toggleable__label-arrow:before {content: \"▸\";float: left;margin-right: 0.25em;color: #696969;}#sk-container-id-2 label.sk-toggleable__label-arrow:hover:before {color: black;}#sk-container-id-2 div.sk-estimator:hover label.sk-toggleable__label-arrow:before {color: black;}#sk-container-id-2 div.sk-toggleable__content {max-height: 0;max-width: 0;overflow: hidden;text-align: left;background-color: #f0f8ff;}#sk-container-id-2 div.sk-toggleable__content pre {margin: 0.2em;color: black;border-radius: 0.25em;background-color: #f0f8ff;}#sk-container-id-2 input.sk-toggleable__control:checked~div.sk-toggleable__content {max-height: 200px;max-width: 100%;overflow: auto;}#sk-container-id-2 input.sk-toggleable__control:checked~label.sk-toggleable__label-arrow:before {content: \"▾\";}#sk-container-id-2 div.sk-estimator input.sk-toggleable__control:checked~label.sk-toggleable__label {background-color: #d4ebff;}#sk-container-id-2 div.sk-label input.sk-toggleable__control:checked~label.sk-toggleable__label {background-color: #d4ebff;}#sk-container-id-2 input.sk-hidden--visually {border: 0;clip: rect(1px 1px 1px 1px);clip: rect(1px, 1px, 1px, 1px);height: 1px;margin: -1px;overflow: hidden;padding: 0;position: absolute;width: 1px;}#sk-container-id-2 div.sk-estimator {font-family: monospace;background-color: #f0f8ff;border: 1px dotted black;border-radius: 0.25em;box-sizing: border-box;margin-bottom: 0.5em;}#sk-container-id-2 div.sk-estimator:hover {background-color: #d4ebff;}#sk-container-id-2 div.sk-parallel-item::after {content: \"\";width: 100%;border-bottom: 1px solid gray;flex-grow: 1;}#sk-container-id-2 div.sk-label:hover label.sk-toggleable__label {background-color: #d4ebff;}#sk-container-id-2 div.sk-serial::before {content: \"\";position: absolute;border-left: 1px solid gray;box-sizing: border-box;top: 0;bottom: 0;left: 50%;z-index: 0;}#sk-container-id-2 div.sk-serial {display: flex;flex-direction: column;align-items: center;background-color: white;padding-right: 0.2em;padding-left: 0.2em;position: relative;}#sk-container-id-2 div.sk-item {position: relative;z-index: 1;}#sk-container-id-2 div.sk-parallel {display: flex;align-items: stretch;justify-content: center;background-color: white;position: relative;}#sk-container-id-2 div.sk-item::before, #sk-container-id-2 div.sk-parallel-item::before {content: \"\";position: absolute;border-left: 1px solid gray;box-sizing: border-box;top: 0;bottom: 0;left: 50%;z-index: -1;}#sk-container-id-2 div.sk-parallel-item {display: flex;flex-direction: column;z-index: 1;position: relative;background-color: white;}#sk-container-id-2 div.sk-parallel-item:first-child::after {align-self: flex-end;width: 50%;}#sk-container-id-2 div.sk-parallel-item:last-child::after {align-self: flex-start;width: 50%;}#sk-container-id-2 div.sk-parallel-item:only-child::after {width: 0;}#sk-container-id-2 div.sk-dashed-wrapped {border: 1px dashed gray;margin: 0 0.4em 0.5em 0.4em;box-sizing: border-box;padding-bottom: 0.4em;background-color: white;}#sk-container-id-2 div.sk-label label {font-family: monospace;font-weight: bold;display: inline-block;line-height: 1.2em;}#sk-container-id-2 div.sk-label-container {text-align: center;}#sk-container-id-2 div.sk-container {/* jupyter's `normalize.less` sets `[hidden] { display: none; }` but bootstrap.min.css set `[hidden] { display: none !important; }` so we also need the `!important` here to be able to override the default hidden behavior on the sphinx rendered scikit-learn.org. See: https://github.com/scikit-learn/scikit-learn/issues/21755 */display: inline-block !important;position: relative;}#sk-container-id-2 div.sk-text-repr-fallback {display: none;}</style><div id=\"sk-container-id-2\" class=\"sk-top-container\"><div class=\"sk-text-repr-fallback\"><pre>RandomizedSearchCV(estimator=RandomForestRegressor(),\n",
       "                   param_distributions=[{&#x27;max_features&#x27;: [2, 4, 6, 8],\n",
       "                                         &#x27;n_estimators&#x27;: [3, 10, 30]},\n",
       "                                        {&#x27;bootstrap&#x27;: [False],\n",
       "                                         &#x27;max_features&#x27;: [2, 3, 4],\n",
       "                                         &#x27;n_estimators&#x27;: [3, 10]}],\n",
       "                   return_train_score=True, scoring=&#x27;neg_mean_squared_error&#x27;)</pre><b>In a Jupyter environment, please rerun this cell to show the HTML representation or trust the notebook. <br />On GitHub, the HTML representation is unable to render, please try loading this page with nbviewer.org.</b></div><div class=\"sk-container\" hidden><div class=\"sk-item sk-dashed-wrapped\"><div class=\"sk-label-container\"><div class=\"sk-label sk-toggleable\"><input class=\"sk-toggleable__control sk-hidden--visually\" id=\"sk-estimator-id-2\" type=\"checkbox\" ><label for=\"sk-estimator-id-2\" class=\"sk-toggleable__label sk-toggleable__label-arrow\">RandomizedSearchCV</label><div class=\"sk-toggleable__content\"><pre>RandomizedSearchCV(estimator=RandomForestRegressor(),\n",
       "                   param_distributions=[{&#x27;max_features&#x27;: [2, 4, 6, 8],\n",
       "                                         &#x27;n_estimators&#x27;: [3, 10, 30]},\n",
       "                                        {&#x27;bootstrap&#x27;: [False],\n",
       "                                         &#x27;max_features&#x27;: [2, 3, 4],\n",
       "                                         &#x27;n_estimators&#x27;: [3, 10]}],\n",
       "                   return_train_score=True, scoring=&#x27;neg_mean_squared_error&#x27;)</pre></div></div></div><div class=\"sk-parallel\"><div class=\"sk-parallel-item\"><div class=\"sk-item\"><div class=\"sk-label-container\"><div class=\"sk-label sk-toggleable\"><input class=\"sk-toggleable__control sk-hidden--visually\" id=\"sk-estimator-id-3\" type=\"checkbox\" ><label for=\"sk-estimator-id-3\" class=\"sk-toggleable__label sk-toggleable__label-arrow\">estimator: RandomForestRegressor</label><div class=\"sk-toggleable__content\"><pre>RandomForestRegressor()</pre></div></div></div><div class=\"sk-serial\"><div class=\"sk-item\"><div class=\"sk-estimator sk-toggleable\"><input class=\"sk-toggleable__control sk-hidden--visually\" id=\"sk-estimator-id-4\" type=\"checkbox\" ><label for=\"sk-estimator-id-4\" class=\"sk-toggleable__label sk-toggleable__label-arrow\">RandomForestRegressor</label><div class=\"sk-toggleable__content\"><pre>RandomForestRegressor()</pre></div></div></div></div></div></div></div></div></div></div>"
      ],
      "text/plain": [
       "RandomizedSearchCV(estimator=RandomForestRegressor(),\n",
       "                   param_distributions=[{'max_features': [2, 4, 6, 8],\n",
       "                                         'n_estimators': [3, 10, 30]},\n",
       "                                        {'bootstrap': [False],\n",
       "                                         'max_features': [2, 3, 4],\n",
       "                                         'n_estimators': [3, 10]}],\n",
       "                   return_train_score=True, scoring='neg_mean_squared_error')"
      ]
     },
     "execution_count": 22,
     "metadata": {},
     "output_type": "execute_result"
    }
   ],
   "source": [
    "param_distributions = [{'n_estimators':[3,10,30],'max_features':[2,4,6,8]},\n",
    "                      {'bootstrap':[False],'n_estimators':[3,10],'max_features':[2,3,4]}]\n",
    "for_search_cv = RandomizedSearchCV(forest, param_distributions,scoring='neg_mean_squared_error', return_train_score=True)\n",
    "for_search_cv.fit(train_prepared, y)"
   ]
  },
  {
   "cell_type": "code",
   "execution_count": 23,
   "id": "ba4c152c",
   "metadata": {
    "execution": {
     "iopub.execute_input": "2023-06-12T12:41:55.200123Z",
     "iopub.status.busy": "2023-06-12T12:41:55.198468Z",
     "iopub.status.idle": "2023-06-12T12:41:55.205008Z",
     "shell.execute_reply": "2023-06-12T12:41:55.203557Z"
    },
    "papermill": {
     "duration": 0.019528,
     "end_time": "2023-06-12T12:41:55.208053",
     "exception": false,
     "start_time": "2023-06-12T12:41:55.188525",
     "status": "completed"
    },
    "tags": []
   },
   "outputs": [],
   "source": [
    "final_model = for_search_cv.best_estimator_"
   ]
  },
  {
   "cell_type": "code",
   "execution_count": 24,
   "id": "ee44a8a5",
   "metadata": {
    "execution": {
     "iopub.execute_input": "2023-06-12T12:41:55.226999Z",
     "iopub.status.busy": "2023-06-12T12:41:55.226519Z",
     "iopub.status.idle": "2023-06-12T12:41:55.236369Z",
     "shell.execute_reply": "2023-06-12T12:41:55.234680Z"
    },
    "papermill": {
     "duration": 0.022739,
     "end_time": "2023-06-12T12:41:55.238858",
     "exception": false,
     "start_time": "2023-06-12T12:41:55.216119",
     "status": "completed"
    },
    "tags": []
   },
   "outputs": [
    {
     "data": {
      "text/html": [
       "<style>#sk-container-id-3 {color: black;background-color: white;}#sk-container-id-3 pre{padding: 0;}#sk-container-id-3 div.sk-toggleable {background-color: white;}#sk-container-id-3 label.sk-toggleable__label {cursor: pointer;display: block;width: 100%;margin-bottom: 0;padding: 0.3em;box-sizing: border-box;text-align: center;}#sk-container-id-3 label.sk-toggleable__label-arrow:before {content: \"▸\";float: left;margin-right: 0.25em;color: #696969;}#sk-container-id-3 label.sk-toggleable__label-arrow:hover:before {color: black;}#sk-container-id-3 div.sk-estimator:hover label.sk-toggleable__label-arrow:before {color: black;}#sk-container-id-3 div.sk-toggleable__content {max-height: 0;max-width: 0;overflow: hidden;text-align: left;background-color: #f0f8ff;}#sk-container-id-3 div.sk-toggleable__content pre {margin: 0.2em;color: black;border-radius: 0.25em;background-color: #f0f8ff;}#sk-container-id-3 input.sk-toggleable__control:checked~div.sk-toggleable__content {max-height: 200px;max-width: 100%;overflow: auto;}#sk-container-id-3 input.sk-toggleable__control:checked~label.sk-toggleable__label-arrow:before {content: \"▾\";}#sk-container-id-3 div.sk-estimator input.sk-toggleable__control:checked~label.sk-toggleable__label {background-color: #d4ebff;}#sk-container-id-3 div.sk-label input.sk-toggleable__control:checked~label.sk-toggleable__label {background-color: #d4ebff;}#sk-container-id-3 input.sk-hidden--visually {border: 0;clip: rect(1px 1px 1px 1px);clip: rect(1px, 1px, 1px, 1px);height: 1px;margin: -1px;overflow: hidden;padding: 0;position: absolute;width: 1px;}#sk-container-id-3 div.sk-estimator {font-family: monospace;background-color: #f0f8ff;border: 1px dotted black;border-radius: 0.25em;box-sizing: border-box;margin-bottom: 0.5em;}#sk-container-id-3 div.sk-estimator:hover {background-color: #d4ebff;}#sk-container-id-3 div.sk-parallel-item::after {content: \"\";width: 100%;border-bottom: 1px solid gray;flex-grow: 1;}#sk-container-id-3 div.sk-label:hover label.sk-toggleable__label {background-color: #d4ebff;}#sk-container-id-3 div.sk-serial::before {content: \"\";position: absolute;border-left: 1px solid gray;box-sizing: border-box;top: 0;bottom: 0;left: 50%;z-index: 0;}#sk-container-id-3 div.sk-serial {display: flex;flex-direction: column;align-items: center;background-color: white;padding-right: 0.2em;padding-left: 0.2em;position: relative;}#sk-container-id-3 div.sk-item {position: relative;z-index: 1;}#sk-container-id-3 div.sk-parallel {display: flex;align-items: stretch;justify-content: center;background-color: white;position: relative;}#sk-container-id-3 div.sk-item::before, #sk-container-id-3 div.sk-parallel-item::before {content: \"\";position: absolute;border-left: 1px solid gray;box-sizing: border-box;top: 0;bottom: 0;left: 50%;z-index: -1;}#sk-container-id-3 div.sk-parallel-item {display: flex;flex-direction: column;z-index: 1;position: relative;background-color: white;}#sk-container-id-3 div.sk-parallel-item:first-child::after {align-self: flex-end;width: 50%;}#sk-container-id-3 div.sk-parallel-item:last-child::after {align-self: flex-start;width: 50%;}#sk-container-id-3 div.sk-parallel-item:only-child::after {width: 0;}#sk-container-id-3 div.sk-dashed-wrapped {border: 1px dashed gray;margin: 0 0.4em 0.5em 0.4em;box-sizing: border-box;padding-bottom: 0.4em;background-color: white;}#sk-container-id-3 div.sk-label label {font-family: monospace;font-weight: bold;display: inline-block;line-height: 1.2em;}#sk-container-id-3 div.sk-label-container {text-align: center;}#sk-container-id-3 div.sk-container {/* jupyter's `normalize.less` sets `[hidden] { display: none; }` but bootstrap.min.css set `[hidden] { display: none !important; }` so we also need the `!important` here to be able to override the default hidden behavior on the sphinx rendered scikit-learn.org. See: https://github.com/scikit-learn/scikit-learn/issues/21755 */display: inline-block !important;position: relative;}#sk-container-id-3 div.sk-text-repr-fallback {display: none;}</style><div id=\"sk-container-id-3\" class=\"sk-top-container\"><div class=\"sk-text-repr-fallback\"><pre>RandomForestRegressor(max_features=2, n_estimators=30)</pre><b>In a Jupyter environment, please rerun this cell to show the HTML representation or trust the notebook. <br />On GitHub, the HTML representation is unable to render, please try loading this page with nbviewer.org.</b></div><div class=\"sk-container\" hidden><div class=\"sk-item\"><div class=\"sk-estimator sk-toggleable\"><input class=\"sk-toggleable__control sk-hidden--visually\" id=\"sk-estimator-id-5\" type=\"checkbox\" checked><label for=\"sk-estimator-id-5\" class=\"sk-toggleable__label sk-toggleable__label-arrow\">RandomForestRegressor</label><div class=\"sk-toggleable__content\"><pre>RandomForestRegressor(max_features=2, n_estimators=30)</pre></div></div></div></div></div>"
      ],
      "text/plain": [
       "RandomForestRegressor(max_features=2, n_estimators=30)"
      ]
     },
     "execution_count": 24,
     "metadata": {},
     "output_type": "execute_result"
    }
   ],
   "source": [
    "final_model"
   ]
  },
  {
   "cell_type": "code",
   "execution_count": 25,
   "id": "93901c04",
   "metadata": {
    "execution": {
     "iopub.execute_input": "2023-06-12T12:41:55.256863Z",
     "iopub.status.busy": "2023-06-12T12:41:55.256506Z",
     "iopub.status.idle": "2023-06-12T12:41:55.748948Z",
     "shell.execute_reply": "2023-06-12T12:41:55.746843Z"
    },
    "papermill": {
     "duration": 0.505113,
     "end_time": "2023-06-12T12:41:55.752135",
     "exception": false,
     "start_time": "2023-06-12T12:41:55.247022",
     "status": "completed"
    },
    "tags": []
   },
   "outputs": [],
   "source": [
    "final_predictions = final_model.predict(test_prepared)"
   ]
  },
  {
   "cell_type": "code",
   "execution_count": 26,
   "id": "68faa4f1",
   "metadata": {
    "execution": {
     "iopub.execute_input": "2023-06-12T12:41:55.772940Z",
     "iopub.status.busy": "2023-06-12T12:41:55.772464Z",
     "iopub.status.idle": "2023-06-12T12:41:55.874971Z",
     "shell.execute_reply": "2023-06-12T12:41:55.873102Z"
    },
    "papermill": {
     "duration": 0.117194,
     "end_time": "2023-06-12T12:41:55.878054",
     "exception": false,
     "start_time": "2023-06-12T12:41:55.760860",
     "status": "completed"
    },
    "tags": []
   },
   "outputs": [],
   "source": [
    "submission_df = pd.DataFrame({'id': test['id'], 'Age': final_predictions})\n",
    "submission_df.to_csv('submission.csv', index=False)"
   ]
  },
  {
   "cell_type": "code",
   "execution_count": null,
   "id": "1a2d5b2d",
   "metadata": {
    "papermill": {
     "duration": 0.008382,
     "end_time": "2023-06-12T12:41:55.894801",
     "exception": false,
     "start_time": "2023-06-12T12:41:55.886419",
     "status": "completed"
    },
    "tags": []
   },
   "outputs": [],
   "source": []
  }
 ],
 "metadata": {
  "kernelspec": {
   "display_name": "Python 3",
   "language": "python",
   "name": "python3"
  },
  "language_info": {
   "codemirror_mode": {
    "name": "ipython",
    "version": 3
   },
   "file_extension": ".py",
   "mimetype": "text/x-python",
   "name": "python",
   "nbconvert_exporter": "python",
   "pygments_lexer": "ipython3",
   "version": "3.10.10"
  },
  "papermill": {
   "default_parameters": {},
   "duration": 266.93111,
   "end_time": "2023-06-12T12:41:57.128371",
   "environment_variables": {},
   "exception": null,
   "input_path": "__notebook__.ipynb",
   "output_path": "__notebook__.ipynb",
   "parameters": {},
   "start_time": "2023-06-12T12:37:30.197261",
   "version": "2.4.0"
  }
 },
 "nbformat": 4,
 "nbformat_minor": 5
}
